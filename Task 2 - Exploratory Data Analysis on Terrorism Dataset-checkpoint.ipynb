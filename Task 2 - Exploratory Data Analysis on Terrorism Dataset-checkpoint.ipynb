{
 "cells": [
  {
   "cell_type": "markdown",
   "id": "52a74bcd",
   "metadata": {},
   "source": [
    "# LetsGrowMore"
   ]
  },
  {
   "cell_type": "markdown",
   "id": "b1b53707",
   "metadata": {},
   "source": [
    "## Task 2 - Exploratory Data Analysis on Terrorism Dataset"
   ]
  },
  {
   "cell_type": "markdown",
   "id": "fb7bf969",
   "metadata": {},
   "source": [
    "## By Sanket Bairagi"
   ]
  },
  {
   "cell_type": "markdown",
   "id": "75fb9a61",
   "metadata": {},
   "source": [
    "\n",
    "\n",
    "we have terrorism dataset.as a security/defense analyst,trying to find out the hot zone of terrorism"
   ]
  },
  {
   "cell_type": "markdown",
   "id": "42c93333",
   "metadata": {},
   "source": [
    "#### Importing  Required Libraries"
   ]
  },
  {
   "cell_type": "code",
   "execution_count": 243,
   "id": "c285862e",
   "metadata": {},
   "outputs": [],
   "source": [
    "import pandas as pd\n",
    "import numpy as np\n",
    "import seaborn as sns\n",
    "from matplotlib import pyplot as plt\n",
    "\n",
    "import warnings\n",
    "warnings.filterwarnings(\"ignore\")"
   ]
  },
  {
   "cell_type": "markdown",
   "id": "2635ade9",
   "metadata": {},
   "source": [
    "#### Reading Dataset And Showing Shape Of Dataset"
   ]
  },
  {
   "cell_type": "code",
   "execution_count": 210,
   "id": "0029b725",
   "metadata": {},
   "outputs": [
    {
     "data": {
      "text/plain": [
       "(181691, 135)"
      ]
     },
     "execution_count": 210,
     "metadata": {},
     "output_type": "execute_result"
    }
   ],
   "source": [
    "tdata=pd.read_csv(\"TDATA.csv\")\n",
    "tdata.shape"
   ]
  },
  {
   "cell_type": "markdown",
   "id": "e2fb0e6d",
   "metadata": {},
   "source": [
    "#### Showing Dataset"
   ]
  },
  {
   "cell_type": "code",
   "execution_count": 211,
   "id": "d567493f",
   "metadata": {},
   "outputs": [
    {
     "data": {
      "text/html": [
       "<div>\n",
       "<style scoped>\n",
       "    .dataframe tbody tr th:only-of-type {\n",
       "        vertical-align: middle;\n",
       "    }\n",
       "\n",
       "    .dataframe tbody tr th {\n",
       "        vertical-align: top;\n",
       "    }\n",
       "\n",
       "    .dataframe thead th {\n",
       "        text-align: right;\n",
       "    }\n",
       "</style>\n",
       "<table border=\"1\" class=\"dataframe\">\n",
       "  <thead>\n",
       "    <tr style=\"text-align: right;\">\n",
       "      <th></th>\n",
       "      <th>eventid</th>\n",
       "      <th>iyear</th>\n",
       "      <th>imonth</th>\n",
       "      <th>iday</th>\n",
       "      <th>approxdate</th>\n",
       "      <th>extended</th>\n",
       "      <th>resolution</th>\n",
       "      <th>country</th>\n",
       "      <th>country_txt</th>\n",
       "      <th>region</th>\n",
       "      <th>...</th>\n",
       "      <th>addnotes</th>\n",
       "      <th>scite1</th>\n",
       "      <th>scite2</th>\n",
       "      <th>scite3</th>\n",
       "      <th>dbsource</th>\n",
       "      <th>INT_LOG</th>\n",
       "      <th>INT_IDEO</th>\n",
       "      <th>INT_MISC</th>\n",
       "      <th>INT_ANY</th>\n",
       "      <th>related</th>\n",
       "    </tr>\n",
       "  </thead>\n",
       "  <tbody>\n",
       "    <tr>\n",
       "      <th>0</th>\n",
       "      <td>197000000001</td>\n",
       "      <td>1970</td>\n",
       "      <td>7</td>\n",
       "      <td>2</td>\n",
       "      <td>NaN</td>\n",
       "      <td>0</td>\n",
       "      <td>NaN</td>\n",
       "      <td>58</td>\n",
       "      <td>Dominican Republic</td>\n",
       "      <td>2</td>\n",
       "      <td>...</td>\n",
       "      <td>NaN</td>\n",
       "      <td>NaN</td>\n",
       "      <td>NaN</td>\n",
       "      <td>NaN</td>\n",
       "      <td>PGIS</td>\n",
       "      <td>0</td>\n",
       "      <td>0</td>\n",
       "      <td>0</td>\n",
       "      <td>0</td>\n",
       "      <td>NaN</td>\n",
       "    </tr>\n",
       "    <tr>\n",
       "      <th>1</th>\n",
       "      <td>197000000002</td>\n",
       "      <td>1970</td>\n",
       "      <td>0</td>\n",
       "      <td>0</td>\n",
       "      <td>NaN</td>\n",
       "      <td>0</td>\n",
       "      <td>NaN</td>\n",
       "      <td>130</td>\n",
       "      <td>Mexico</td>\n",
       "      <td>1</td>\n",
       "      <td>...</td>\n",
       "      <td>NaN</td>\n",
       "      <td>NaN</td>\n",
       "      <td>NaN</td>\n",
       "      <td>NaN</td>\n",
       "      <td>PGIS</td>\n",
       "      <td>0</td>\n",
       "      <td>1</td>\n",
       "      <td>1</td>\n",
       "      <td>1</td>\n",
       "      <td>NaN</td>\n",
       "    </tr>\n",
       "    <tr>\n",
       "      <th>2</th>\n",
       "      <td>197001000001</td>\n",
       "      <td>1970</td>\n",
       "      <td>1</td>\n",
       "      <td>0</td>\n",
       "      <td>NaN</td>\n",
       "      <td>0</td>\n",
       "      <td>NaN</td>\n",
       "      <td>160</td>\n",
       "      <td>Philippines</td>\n",
       "      <td>5</td>\n",
       "      <td>...</td>\n",
       "      <td>NaN</td>\n",
       "      <td>NaN</td>\n",
       "      <td>NaN</td>\n",
       "      <td>NaN</td>\n",
       "      <td>PGIS</td>\n",
       "      <td>-9</td>\n",
       "      <td>-9</td>\n",
       "      <td>1</td>\n",
       "      <td>1</td>\n",
       "      <td>NaN</td>\n",
       "    </tr>\n",
       "    <tr>\n",
       "      <th>3</th>\n",
       "      <td>197001000002</td>\n",
       "      <td>1970</td>\n",
       "      <td>1</td>\n",
       "      <td>0</td>\n",
       "      <td>NaN</td>\n",
       "      <td>0</td>\n",
       "      <td>NaN</td>\n",
       "      <td>78</td>\n",
       "      <td>Greece</td>\n",
       "      <td>8</td>\n",
       "      <td>...</td>\n",
       "      <td>NaN</td>\n",
       "      <td>NaN</td>\n",
       "      <td>NaN</td>\n",
       "      <td>NaN</td>\n",
       "      <td>PGIS</td>\n",
       "      <td>-9</td>\n",
       "      <td>-9</td>\n",
       "      <td>1</td>\n",
       "      <td>1</td>\n",
       "      <td>NaN</td>\n",
       "    </tr>\n",
       "    <tr>\n",
       "      <th>4</th>\n",
       "      <td>197001000003</td>\n",
       "      <td>1970</td>\n",
       "      <td>1</td>\n",
       "      <td>0</td>\n",
       "      <td>NaN</td>\n",
       "      <td>0</td>\n",
       "      <td>NaN</td>\n",
       "      <td>101</td>\n",
       "      <td>Japan</td>\n",
       "      <td>4</td>\n",
       "      <td>...</td>\n",
       "      <td>NaN</td>\n",
       "      <td>NaN</td>\n",
       "      <td>NaN</td>\n",
       "      <td>NaN</td>\n",
       "      <td>PGIS</td>\n",
       "      <td>-9</td>\n",
       "      <td>-9</td>\n",
       "      <td>1</td>\n",
       "      <td>1</td>\n",
       "      <td>NaN</td>\n",
       "    </tr>\n",
       "    <tr>\n",
       "      <th>...</th>\n",
       "      <td>...</td>\n",
       "      <td>...</td>\n",
       "      <td>...</td>\n",
       "      <td>...</td>\n",
       "      <td>...</td>\n",
       "      <td>...</td>\n",
       "      <td>...</td>\n",
       "      <td>...</td>\n",
       "      <td>...</td>\n",
       "      <td>...</td>\n",
       "      <td>...</td>\n",
       "      <td>...</td>\n",
       "      <td>...</td>\n",
       "      <td>...</td>\n",
       "      <td>...</td>\n",
       "      <td>...</td>\n",
       "      <td>...</td>\n",
       "      <td>...</td>\n",
       "      <td>...</td>\n",
       "      <td>...</td>\n",
       "      <td>...</td>\n",
       "    </tr>\n",
       "    <tr>\n",
       "      <th>181686</th>\n",
       "      <td>201712310022</td>\n",
       "      <td>2017</td>\n",
       "      <td>12</td>\n",
       "      <td>31</td>\n",
       "      <td>NaN</td>\n",
       "      <td>0</td>\n",
       "      <td>NaN</td>\n",
       "      <td>182</td>\n",
       "      <td>Somalia</td>\n",
       "      <td>11</td>\n",
       "      <td>...</td>\n",
       "      <td>NaN</td>\n",
       "      <td>\"Somalia: Al-Shabaab Militants Attack Army Che...</td>\n",
       "      <td>\"Highlights: Somalia Daily Media Highlights 2 ...</td>\n",
       "      <td>\"Highlights: Somalia Daily Media Highlights 1 ...</td>\n",
       "      <td>START Primary Collection</td>\n",
       "      <td>0</td>\n",
       "      <td>0</td>\n",
       "      <td>0</td>\n",
       "      <td>0</td>\n",
       "      <td>NaN</td>\n",
       "    </tr>\n",
       "    <tr>\n",
       "      <th>181687</th>\n",
       "      <td>201712310029</td>\n",
       "      <td>2017</td>\n",
       "      <td>12</td>\n",
       "      <td>31</td>\n",
       "      <td>NaN</td>\n",
       "      <td>0</td>\n",
       "      <td>NaN</td>\n",
       "      <td>200</td>\n",
       "      <td>Syria</td>\n",
       "      <td>10</td>\n",
       "      <td>...</td>\n",
       "      <td>NaN</td>\n",
       "      <td>\"Putin's 'victory' in Syria has turned into a ...</td>\n",
       "      <td>\"Two Russian soldiers killed at Hmeymim base i...</td>\n",
       "      <td>\"Two Russian servicemen killed in Syria mortar...</td>\n",
       "      <td>START Primary Collection</td>\n",
       "      <td>-9</td>\n",
       "      <td>-9</td>\n",
       "      <td>1</td>\n",
       "      <td>1</td>\n",
       "      <td>NaN</td>\n",
       "    </tr>\n",
       "    <tr>\n",
       "      <th>181688</th>\n",
       "      <td>201712310030</td>\n",
       "      <td>2017</td>\n",
       "      <td>12</td>\n",
       "      <td>31</td>\n",
       "      <td>NaN</td>\n",
       "      <td>0</td>\n",
       "      <td>NaN</td>\n",
       "      <td>160</td>\n",
       "      <td>Philippines</td>\n",
       "      <td>5</td>\n",
       "      <td>...</td>\n",
       "      <td>NaN</td>\n",
       "      <td>\"Maguindanao clashes trap tribe members,\" Phil...</td>\n",
       "      <td>NaN</td>\n",
       "      <td>NaN</td>\n",
       "      <td>START Primary Collection</td>\n",
       "      <td>0</td>\n",
       "      <td>0</td>\n",
       "      <td>0</td>\n",
       "      <td>0</td>\n",
       "      <td>NaN</td>\n",
       "    </tr>\n",
       "    <tr>\n",
       "      <th>181689</th>\n",
       "      <td>201712310031</td>\n",
       "      <td>2017</td>\n",
       "      <td>12</td>\n",
       "      <td>31</td>\n",
       "      <td>NaN</td>\n",
       "      <td>0</td>\n",
       "      <td>NaN</td>\n",
       "      <td>92</td>\n",
       "      <td>India</td>\n",
       "      <td>6</td>\n",
       "      <td>...</td>\n",
       "      <td>NaN</td>\n",
       "      <td>\"Trader escapes grenade attack in Imphal,\" Bus...</td>\n",
       "      <td>NaN</td>\n",
       "      <td>NaN</td>\n",
       "      <td>START Primary Collection</td>\n",
       "      <td>-9</td>\n",
       "      <td>-9</td>\n",
       "      <td>0</td>\n",
       "      <td>-9</td>\n",
       "      <td>NaN</td>\n",
       "    </tr>\n",
       "    <tr>\n",
       "      <th>181690</th>\n",
       "      <td>201712310032</td>\n",
       "      <td>2017</td>\n",
       "      <td>12</td>\n",
       "      <td>31</td>\n",
       "      <td>NaN</td>\n",
       "      <td>0</td>\n",
       "      <td>NaN</td>\n",
       "      <td>160</td>\n",
       "      <td>Philippines</td>\n",
       "      <td>5</td>\n",
       "      <td>...</td>\n",
       "      <td>NaN</td>\n",
       "      <td>\"Security tightened in Cotabato following IED ...</td>\n",
       "      <td>\"Security tightened in Cotabato City,\" Manila ...</td>\n",
       "      <td>NaN</td>\n",
       "      <td>START Primary Collection</td>\n",
       "      <td>-9</td>\n",
       "      <td>-9</td>\n",
       "      <td>0</td>\n",
       "      <td>-9</td>\n",
       "      <td>NaN</td>\n",
       "    </tr>\n",
       "  </tbody>\n",
       "</table>\n",
       "<p>181691 rows × 135 columns</p>\n",
       "</div>"
      ],
      "text/plain": [
       "             eventid  iyear  imonth  iday approxdate  extended resolution  \\\n",
       "0       197000000001   1970       7     2        NaN         0        NaN   \n",
       "1       197000000002   1970       0     0        NaN         0        NaN   \n",
       "2       197001000001   1970       1     0        NaN         0        NaN   \n",
       "3       197001000002   1970       1     0        NaN         0        NaN   \n",
       "4       197001000003   1970       1     0        NaN         0        NaN   \n",
       "...              ...    ...     ...   ...        ...       ...        ...   \n",
       "181686  201712310022   2017      12    31        NaN         0        NaN   \n",
       "181687  201712310029   2017      12    31        NaN         0        NaN   \n",
       "181688  201712310030   2017      12    31        NaN         0        NaN   \n",
       "181689  201712310031   2017      12    31        NaN         0        NaN   \n",
       "181690  201712310032   2017      12    31        NaN         0        NaN   \n",
       "\n",
       "        country         country_txt  region  ... addnotes  \\\n",
       "0            58  Dominican Republic       2  ...      NaN   \n",
       "1           130              Mexico       1  ...      NaN   \n",
       "2           160         Philippines       5  ...      NaN   \n",
       "3            78              Greece       8  ...      NaN   \n",
       "4           101               Japan       4  ...      NaN   \n",
       "...         ...                 ...     ...  ...      ...   \n",
       "181686      182             Somalia      11  ...      NaN   \n",
       "181687      200               Syria      10  ...      NaN   \n",
       "181688      160         Philippines       5  ...      NaN   \n",
       "181689       92               India       6  ...      NaN   \n",
       "181690      160         Philippines       5  ...      NaN   \n",
       "\n",
       "                                                   scite1  \\\n",
       "0                                                     NaN   \n",
       "1                                                     NaN   \n",
       "2                                                     NaN   \n",
       "3                                                     NaN   \n",
       "4                                                     NaN   \n",
       "...                                                   ...   \n",
       "181686  \"Somalia: Al-Shabaab Militants Attack Army Che...   \n",
       "181687  \"Putin's 'victory' in Syria has turned into a ...   \n",
       "181688  \"Maguindanao clashes trap tribe members,\" Phil...   \n",
       "181689  \"Trader escapes grenade attack in Imphal,\" Bus...   \n",
       "181690  \"Security tightened in Cotabato following IED ...   \n",
       "\n",
       "                                                   scite2  \\\n",
       "0                                                     NaN   \n",
       "1                                                     NaN   \n",
       "2                                                     NaN   \n",
       "3                                                     NaN   \n",
       "4                                                     NaN   \n",
       "...                                                   ...   \n",
       "181686  \"Highlights: Somalia Daily Media Highlights 2 ...   \n",
       "181687  \"Two Russian soldiers killed at Hmeymim base i...   \n",
       "181688                                                NaN   \n",
       "181689                                                NaN   \n",
       "181690  \"Security tightened in Cotabato City,\" Manila ...   \n",
       "\n",
       "                                                   scite3  \\\n",
       "0                                                     NaN   \n",
       "1                                                     NaN   \n",
       "2                                                     NaN   \n",
       "3                                                     NaN   \n",
       "4                                                     NaN   \n",
       "...                                                   ...   \n",
       "181686  \"Highlights: Somalia Daily Media Highlights 1 ...   \n",
       "181687  \"Two Russian servicemen killed in Syria mortar...   \n",
       "181688                                                NaN   \n",
       "181689                                                NaN   \n",
       "181690                                                NaN   \n",
       "\n",
       "                        dbsource  INT_LOG  INT_IDEO INT_MISC INT_ANY  related  \n",
       "0                           PGIS        0         0        0       0      NaN  \n",
       "1                           PGIS        0         1        1       1      NaN  \n",
       "2                           PGIS       -9        -9        1       1      NaN  \n",
       "3                           PGIS       -9        -9        1       1      NaN  \n",
       "4                           PGIS       -9        -9        1       1      NaN  \n",
       "...                          ...      ...       ...      ...     ...      ...  \n",
       "181686  START Primary Collection        0         0        0       0      NaN  \n",
       "181687  START Primary Collection       -9        -9        1       1      NaN  \n",
       "181688  START Primary Collection        0         0        0       0      NaN  \n",
       "181689  START Primary Collection       -9        -9        0      -9      NaN  \n",
       "181690  START Primary Collection       -9        -9        0      -9      NaN  \n",
       "\n",
       "[181691 rows x 135 columns]"
      ]
     },
     "execution_count": 211,
     "metadata": {},
     "output_type": "execute_result"
    }
   ],
   "source": [
    "tdata"
   ]
  },
  {
   "cell_type": "markdown",
   "id": "1d8f24a4",
   "metadata": {},
   "source": [
    "#### Showing All Columns Of Dataset"
   ]
  },
  {
   "cell_type": "code",
   "execution_count": 212,
   "id": "c2226b73",
   "metadata": {},
   "outputs": [
    {
     "name": "stdout",
     "output_type": "stream",
     "text": [
      "eventid\n",
      "iyear\n",
      "imonth\n",
      "iday\n",
      "approxdate\n",
      "extended\n",
      "resolution\n",
      "country\n",
      "country_txt\n",
      "region\n",
      "region_txt\n",
      "provstate\n",
      "city\n",
      "latitude\n",
      "longitude\n",
      "specificity\n",
      "vicinity\n",
      "location\n",
      "summary\n",
      "crit1\n",
      "crit2\n",
      "crit3\n",
      "doubtterr\n",
      "alternative\n",
      "alternative_txt\n",
      "multiple\n",
      "success\n",
      "suicide\n",
      "attacktype1\n",
      "attacktype1_txt\n",
      "attacktype2\n",
      "attacktype2_txt\n",
      "attacktype3\n",
      "attacktype3_txt\n",
      "targtype1\n",
      "targtype1_txt\n",
      "targsubtype1\n",
      "targsubtype1_txt\n",
      "corp1\n",
      "target1\n",
      "natlty1\n",
      "natlty1_txt\n",
      "targtype2\n",
      "targtype2_txt\n",
      "targsubtype2\n",
      "targsubtype2_txt\n",
      "corp2\n",
      "target2\n",
      "natlty2\n",
      "natlty2_txt\n",
      "targtype3\n",
      "targtype3_txt\n",
      "targsubtype3\n",
      "targsubtype3_txt\n",
      "corp3\n",
      "target3\n",
      "natlty3\n",
      "natlty3_txt\n",
      "gname\n",
      "gsubname\n",
      "gname2\n",
      "gsubname2\n",
      "gname3\n",
      "gsubname3\n",
      "motive\n",
      "guncertain1\n",
      "guncertain2\n",
      "guncertain3\n",
      "individual\n",
      "nperps\n",
      "nperpcap\n",
      "claimed\n",
      "claimmode\n",
      "claimmode_txt\n",
      "claim2\n",
      "claimmode2\n",
      "claimmode2_txt\n",
      "claim3\n",
      "claimmode3\n",
      "claimmode3_txt\n",
      "compclaim\n",
      "weaptype1\n",
      "weaptype1_txt\n",
      "weapsubtype1\n",
      "weapsubtype1_txt\n",
      "weaptype2\n",
      "weaptype2_txt\n",
      "weapsubtype2\n",
      "weapsubtype2_txt\n",
      "weaptype3\n",
      "weaptype3_txt\n",
      "weapsubtype3\n",
      "weapsubtype3_txt\n",
      "weaptype4\n",
      "weaptype4_txt\n",
      "weapsubtype4\n",
      "weapsubtype4_txt\n",
      "weapdetail\n",
      "nkill\n",
      "nkillus\n",
      "nkillter\n",
      "nwound\n",
      "nwoundus\n",
      "nwoundte\n",
      "property\n",
      "propextent\n",
      "propextent_txt\n",
      "propvalue\n",
      "propcomment\n",
      "ishostkid\n",
      "nhostkid\n",
      "nhostkidus\n",
      "nhours\n",
      "ndays\n",
      "divert\n",
      "kidhijcountry\n",
      "ransom\n",
      "ransomamt\n",
      "ransomamtus\n",
      "ransompaid\n",
      "ransompaidus\n",
      "ransomnote\n",
      "hostkidoutcome\n",
      "hostkidoutcome_txt\n",
      "nreleased\n",
      "addnotes\n",
      "scite1\n",
      "scite2\n",
      "scite3\n",
      "dbsource\n",
      "INT_LOG\n",
      "INT_IDEO\n",
      "INT_MISC\n",
      "INT_ANY\n",
      "related\n"
     ]
    }
   ],
   "source": [
    "for columns in tdata:\n",
    "    print(columns)"
   ]
  },
  {
   "cell_type": "code",
   "execution_count": 213,
   "id": "e89e6ae1",
   "metadata": {},
   "outputs": [],
   "source": [
    "tdata.rename(columns={'iyear':'Year','country':'Country_code','country_txt':'Country_name','region':'Region_code','region_txt':'Region','attacktype1_txt':'Attack_type','targtype1_txt':'Target_type','weaptype1_txt':'Weapon_type','nkill':'Kill','gname':'Gang_name','nwound':'wound'},inplace=True)"
   ]
  },
  {
   "cell_type": "markdown",
   "id": "c4e5930b",
   "metadata": {},
   "source": [
    "#### Making Subset / New Dataset"
   ]
  },
  {
   "cell_type": "markdown",
   "id": "502c9cfe",
   "metadata": {},
   "source": [
    "In the tdata set there is 135 columns.we have to take only those columns which is neccesory and required for futher analyis"
   ]
  },
  {
   "cell_type": "code",
   "execution_count": 214,
   "id": "06e5936d",
   "metadata": {},
   "outputs": [],
   "source": [
    "data=tdata[['eventid','Year','Country_code','Country_name','city','Region_code','Region','Attack_type','Target_type','Weapon_type','Kill','wound','Gang_name','success']]"
   ]
  },
  {
   "cell_type": "code",
   "execution_count": 215,
   "id": "e2648f93",
   "metadata": {},
   "outputs": [
    {
     "data": {
      "text/html": [
       "<div>\n",
       "<style scoped>\n",
       "    .dataframe tbody tr th:only-of-type {\n",
       "        vertical-align: middle;\n",
       "    }\n",
       "\n",
       "    .dataframe tbody tr th {\n",
       "        vertical-align: top;\n",
       "    }\n",
       "\n",
       "    .dataframe thead th {\n",
       "        text-align: right;\n",
       "    }\n",
       "</style>\n",
       "<table border=\"1\" class=\"dataframe\">\n",
       "  <thead>\n",
       "    <tr style=\"text-align: right;\">\n",
       "      <th></th>\n",
       "      <th>eventid</th>\n",
       "      <th>Year</th>\n",
       "      <th>Country_code</th>\n",
       "      <th>Country_name</th>\n",
       "      <th>city</th>\n",
       "      <th>Region_code</th>\n",
       "      <th>Region</th>\n",
       "      <th>Attack_type</th>\n",
       "      <th>Target_type</th>\n",
       "      <th>Weapon_type</th>\n",
       "      <th>Kill</th>\n",
       "      <th>wound</th>\n",
       "      <th>Gang_name</th>\n",
       "      <th>success</th>\n",
       "    </tr>\n",
       "  </thead>\n",
       "  <tbody>\n",
       "    <tr>\n",
       "      <th>0</th>\n",
       "      <td>197000000001</td>\n",
       "      <td>1970</td>\n",
       "      <td>58</td>\n",
       "      <td>Dominican Republic</td>\n",
       "      <td>Santo Domingo</td>\n",
       "      <td>2</td>\n",
       "      <td>Central America &amp; Caribbean</td>\n",
       "      <td>Assassination</td>\n",
       "      <td>Private Citizens &amp; Property</td>\n",
       "      <td>Unknown</td>\n",
       "      <td>1.0</td>\n",
       "      <td>0.0</td>\n",
       "      <td>MANO-D</td>\n",
       "      <td>1</td>\n",
       "    </tr>\n",
       "    <tr>\n",
       "      <th>1</th>\n",
       "      <td>197000000002</td>\n",
       "      <td>1970</td>\n",
       "      <td>130</td>\n",
       "      <td>Mexico</td>\n",
       "      <td>Mexico city</td>\n",
       "      <td>1</td>\n",
       "      <td>North America</td>\n",
       "      <td>Hostage Taking (Kidnapping)</td>\n",
       "      <td>Government (Diplomatic)</td>\n",
       "      <td>Unknown</td>\n",
       "      <td>0.0</td>\n",
       "      <td>0.0</td>\n",
       "      <td>23rd of September Communist League</td>\n",
       "      <td>1</td>\n",
       "    </tr>\n",
       "    <tr>\n",
       "      <th>2</th>\n",
       "      <td>197001000001</td>\n",
       "      <td>1970</td>\n",
       "      <td>160</td>\n",
       "      <td>Philippines</td>\n",
       "      <td>Unknown</td>\n",
       "      <td>5</td>\n",
       "      <td>Southeast Asia</td>\n",
       "      <td>Assassination</td>\n",
       "      <td>Journalists &amp; Media</td>\n",
       "      <td>Unknown</td>\n",
       "      <td>1.0</td>\n",
       "      <td>0.0</td>\n",
       "      <td>Unknown</td>\n",
       "      <td>1</td>\n",
       "    </tr>\n",
       "    <tr>\n",
       "      <th>3</th>\n",
       "      <td>197001000002</td>\n",
       "      <td>1970</td>\n",
       "      <td>78</td>\n",
       "      <td>Greece</td>\n",
       "      <td>Athens</td>\n",
       "      <td>8</td>\n",
       "      <td>Western Europe</td>\n",
       "      <td>Bombing/Explosion</td>\n",
       "      <td>Government (Diplomatic)</td>\n",
       "      <td>Explosives</td>\n",
       "      <td>NaN</td>\n",
       "      <td>NaN</td>\n",
       "      <td>Unknown</td>\n",
       "      <td>1</td>\n",
       "    </tr>\n",
       "    <tr>\n",
       "      <th>4</th>\n",
       "      <td>197001000003</td>\n",
       "      <td>1970</td>\n",
       "      <td>101</td>\n",
       "      <td>Japan</td>\n",
       "      <td>Fukouka</td>\n",
       "      <td>4</td>\n",
       "      <td>East Asia</td>\n",
       "      <td>Facility/Infrastructure Attack</td>\n",
       "      <td>Government (Diplomatic)</td>\n",
       "      <td>Incendiary</td>\n",
       "      <td>NaN</td>\n",
       "      <td>NaN</td>\n",
       "      <td>Unknown</td>\n",
       "      <td>1</td>\n",
       "    </tr>\n",
       "    <tr>\n",
       "      <th>5</th>\n",
       "      <td>197001010002</td>\n",
       "      <td>1970</td>\n",
       "      <td>217</td>\n",
       "      <td>United States</td>\n",
       "      <td>Cairo</td>\n",
       "      <td>1</td>\n",
       "      <td>North America</td>\n",
       "      <td>Armed Assault</td>\n",
       "      <td>Police</td>\n",
       "      <td>Firearms</td>\n",
       "      <td>0.0</td>\n",
       "      <td>0.0</td>\n",
       "      <td>Black Nationalists</td>\n",
       "      <td>1</td>\n",
       "    </tr>\n",
       "    <tr>\n",
       "      <th>6</th>\n",
       "      <td>197001020001</td>\n",
       "      <td>1970</td>\n",
       "      <td>218</td>\n",
       "      <td>Uruguay</td>\n",
       "      <td>Montevideo</td>\n",
       "      <td>3</td>\n",
       "      <td>South America</td>\n",
       "      <td>Assassination</td>\n",
       "      <td>Police</td>\n",
       "      <td>Firearms</td>\n",
       "      <td>0.0</td>\n",
       "      <td>0.0</td>\n",
       "      <td>Tupamaros (Uruguay)</td>\n",
       "      <td>0</td>\n",
       "    </tr>\n",
       "    <tr>\n",
       "      <th>7</th>\n",
       "      <td>197001020002</td>\n",
       "      <td>1970</td>\n",
       "      <td>217</td>\n",
       "      <td>United States</td>\n",
       "      <td>Oakland</td>\n",
       "      <td>1</td>\n",
       "      <td>North America</td>\n",
       "      <td>Bombing/Explosion</td>\n",
       "      <td>Utilities</td>\n",
       "      <td>Explosives</td>\n",
       "      <td>0.0</td>\n",
       "      <td>0.0</td>\n",
       "      <td>Unknown</td>\n",
       "      <td>1</td>\n",
       "    </tr>\n",
       "    <tr>\n",
       "      <th>8</th>\n",
       "      <td>197001020003</td>\n",
       "      <td>1970</td>\n",
       "      <td>217</td>\n",
       "      <td>United States</td>\n",
       "      <td>Madison</td>\n",
       "      <td>1</td>\n",
       "      <td>North America</td>\n",
       "      <td>Facility/Infrastructure Attack</td>\n",
       "      <td>Military</td>\n",
       "      <td>Incendiary</td>\n",
       "      <td>0.0</td>\n",
       "      <td>0.0</td>\n",
       "      <td>New Year's Gang</td>\n",
       "      <td>1</td>\n",
       "    </tr>\n",
       "    <tr>\n",
       "      <th>9</th>\n",
       "      <td>197001030001</td>\n",
       "      <td>1970</td>\n",
       "      <td>217</td>\n",
       "      <td>United States</td>\n",
       "      <td>Madison</td>\n",
       "      <td>1</td>\n",
       "      <td>North America</td>\n",
       "      <td>Facility/Infrastructure Attack</td>\n",
       "      <td>Government (General)</td>\n",
       "      <td>Incendiary</td>\n",
       "      <td>0.0</td>\n",
       "      <td>0.0</td>\n",
       "      <td>New Year's Gang</td>\n",
       "      <td>1</td>\n",
       "    </tr>\n",
       "  </tbody>\n",
       "</table>\n",
       "</div>"
      ],
      "text/plain": [
       "        eventid  Year  Country_code        Country_name           city  \\\n",
       "0  197000000001  1970            58  Dominican Republic  Santo Domingo   \n",
       "1  197000000002  1970           130              Mexico    Mexico city   \n",
       "2  197001000001  1970           160         Philippines        Unknown   \n",
       "3  197001000002  1970            78              Greece         Athens   \n",
       "4  197001000003  1970           101               Japan        Fukouka   \n",
       "5  197001010002  1970           217       United States          Cairo   \n",
       "6  197001020001  1970           218             Uruguay     Montevideo   \n",
       "7  197001020002  1970           217       United States        Oakland   \n",
       "8  197001020003  1970           217       United States        Madison   \n",
       "9  197001030001  1970           217       United States        Madison   \n",
       "\n",
       "   Region_code                       Region                     Attack_type  \\\n",
       "0            2  Central America & Caribbean                   Assassination   \n",
       "1            1                North America     Hostage Taking (Kidnapping)   \n",
       "2            5               Southeast Asia                   Assassination   \n",
       "3            8               Western Europe               Bombing/Explosion   \n",
       "4            4                    East Asia  Facility/Infrastructure Attack   \n",
       "5            1                North America                   Armed Assault   \n",
       "6            3                South America                   Assassination   \n",
       "7            1                North America               Bombing/Explosion   \n",
       "8            1                North America  Facility/Infrastructure Attack   \n",
       "9            1                North America  Facility/Infrastructure Attack   \n",
       "\n",
       "                   Target_type Weapon_type  Kill  wound  \\\n",
       "0  Private Citizens & Property     Unknown   1.0    0.0   \n",
       "1      Government (Diplomatic)     Unknown   0.0    0.0   \n",
       "2          Journalists & Media     Unknown   1.0    0.0   \n",
       "3      Government (Diplomatic)  Explosives   NaN    NaN   \n",
       "4      Government (Diplomatic)  Incendiary   NaN    NaN   \n",
       "5                       Police    Firearms   0.0    0.0   \n",
       "6                       Police    Firearms   0.0    0.0   \n",
       "7                    Utilities  Explosives   0.0    0.0   \n",
       "8                     Military  Incendiary   0.0    0.0   \n",
       "9         Government (General)  Incendiary   0.0    0.0   \n",
       "\n",
       "                            Gang_name  success  \n",
       "0                              MANO-D        1  \n",
       "1  23rd of September Communist League        1  \n",
       "2                             Unknown        1  \n",
       "3                             Unknown        1  \n",
       "4                             Unknown        1  \n",
       "5                  Black Nationalists        1  \n",
       "6                 Tupamaros (Uruguay)        0  \n",
       "7                             Unknown        1  \n",
       "8                     New Year's Gang        1  \n",
       "9                     New Year's Gang        1  "
      ]
     },
     "execution_count": 215,
     "metadata": {},
     "output_type": "execute_result"
    }
   ],
   "source": [
    "data.head(10)"
   ]
  },
  {
   "cell_type": "markdown",
   "id": "a153cb72",
   "metadata": {},
   "source": [
    "### Data Cleaning And Proccesing"
   ]
  },
  {
   "cell_type": "markdown",
   "id": "e27f67f3",
   "metadata": {},
   "source": [
    "#### Finding Null/missing values in Data"
   ]
  },
  {
   "cell_type": "code",
   "execution_count": 216,
   "id": "439286da",
   "metadata": {},
   "outputs": [
    {
     "data": {
      "text/plain": [
       "eventid             0\n",
       "Year                0\n",
       "Country_code        0\n",
       "Country_name        0\n",
       "city              434\n",
       "Region_code         0\n",
       "Region              0\n",
       "Attack_type         0\n",
       "Target_type         0\n",
       "Weapon_type         0\n",
       "Kill            10313\n",
       "wound           16311\n",
       "Gang_name           0\n",
       "success             0\n",
       "dtype: int64"
      ]
     },
     "execution_count": 216,
     "metadata": {},
     "output_type": "execute_result"
    }
   ],
   "source": [
    "data.isnull().sum()"
   ]
  },
  {
   "cell_type": "markdown",
   "id": "13256304",
   "metadata": {},
   "source": [
    "in data set there is null/missing values present in nkill and city column.\n",
    "we have to replace that null values.\n",
    "Replacing null values in dataset with 0"
   ]
  },
  {
   "cell_type": "code",
   "execution_count": 217,
   "id": "ab685c10",
   "metadata": {},
   "outputs": [],
   "source": [
    "data.replace(np.nan,0,inplace=True)  "
   ]
  },
  {
   "cell_type": "code",
   "execution_count": 218,
   "id": "2971ea9e",
   "metadata": {},
   "outputs": [
    {
     "data": {
      "text/plain": [
       "eventid         0\n",
       "Year            0\n",
       "Country_code    0\n",
       "Country_name    0\n",
       "city            0\n",
       "Region_code     0\n",
       "Region          0\n",
       "Attack_type     0\n",
       "Target_type     0\n",
       "Weapon_type     0\n",
       "Kill            0\n",
       "wound           0\n",
       "Gang_name       0\n",
       "success         0\n",
       "dtype: int64"
      ]
     },
     "execution_count": 218,
     "metadata": {},
     "output_type": "execute_result"
    }
   ],
   "source": [
    "data.isnull().sum()"
   ]
  },
  {
   "cell_type": "markdown",
   "id": "405f1745",
   "metadata": {},
   "source": [
    "all null values and missing values removed."
   ]
  },
  {
   "cell_type": "markdown",
   "id": "8119252c",
   "metadata": {},
   "source": [
    "#### Data Type in Dataset"
   ]
  },
  {
   "cell_type": "code",
   "execution_count": 219,
   "id": "1d3a2e17",
   "metadata": {},
   "outputs": [
    {
     "data": {
      "text/plain": [
       "eventid           int64\n",
       "Year              int64\n",
       "Country_code      int64\n",
       "Country_name     object\n",
       "city             object\n",
       "Region_code       int64\n",
       "Region           object\n",
       "Attack_type      object\n",
       "Target_type      object\n",
       "Weapon_type      object\n",
       "Kill            float64\n",
       "wound           float64\n",
       "Gang_name        object\n",
       "success           int64\n",
       "dtype: object"
      ]
     },
     "execution_count": 219,
     "metadata": {},
     "output_type": "execute_result"
    }
   ],
   "source": [
    "data.dtypes"
   ]
  },
  {
   "cell_type": "markdown",
   "id": "b0b89dda",
   "metadata": {},
   "source": [
    "Country_name,Region,city,Attack_type,Targt_type,Weapon_type,Gang_name are categorical veriable\n",
    "Kill and wound is float.\n",
    "we have to covert float datatye into int."
   ]
  },
  {
   "cell_type": "code",
   "execution_count": 220,
   "id": "b36f69fc",
   "metadata": {},
   "outputs": [],
   "source": [
    "data['Kill']=data['Kill'].astype('int')\n",
    "data['wound']=data['wound'].astype('int')"
   ]
  },
  {
   "cell_type": "markdown",
   "id": "452b7d87",
   "metadata": {},
   "source": [
    "#### Showing All Information About Dataset"
   ]
  },
  {
   "cell_type": "code",
   "execution_count": 221,
   "id": "18c55129",
   "metadata": {},
   "outputs": [
    {
     "name": "stdout",
     "output_type": "stream",
     "text": [
      "<class 'pandas.core.frame.DataFrame'>\n",
      "RangeIndex: 181691 entries, 0 to 181690\n",
      "Data columns (total 14 columns):\n",
      " #   Column        Non-Null Count   Dtype \n",
      "---  ------        --------------   ----- \n",
      " 0   eventid       181691 non-null  int64 \n",
      " 1   Year          181691 non-null  int64 \n",
      " 2   Country_code  181691 non-null  int64 \n",
      " 3   Country_name  181691 non-null  object\n",
      " 4   city          181691 non-null  object\n",
      " 5   Region_code   181691 non-null  int64 \n",
      " 6   Region        181691 non-null  object\n",
      " 7   Attack_type   181691 non-null  object\n",
      " 8   Target_type   181691 non-null  object\n",
      " 9   Weapon_type   181691 non-null  object\n",
      " 10  Kill          181691 non-null  int32 \n",
      " 11  wound         181691 non-null  int32 \n",
      " 12  Gang_name     181691 non-null  object\n",
      " 13  success       181691 non-null  int64 \n",
      "dtypes: int32(2), int64(5), object(7)\n",
      "memory usage: 18.0+ MB\n"
     ]
    }
   ],
   "source": [
    "data.info()"
   ]
  },
  {
   "cell_type": "markdown",
   "id": "309bad14",
   "metadata": {},
   "source": [
    "#### Checking For Dublicate Values "
   ]
  },
  {
   "cell_type": "code",
   "execution_count": 222,
   "id": "49efbc03",
   "metadata": {},
   "outputs": [
    {
     "data": {
      "text/plain": [
       "0"
      ]
     },
     "execution_count": 222,
     "metadata": {},
     "output_type": "execute_result"
    }
   ],
   "source": [
    "data.duplicated().sum()"
   ]
  },
  {
   "cell_type": "markdown",
   "id": "489739a7",
   "metadata": {},
   "source": [
    "No dublicate values found in Data"
   ]
  },
  {
   "cell_type": "markdown",
   "id": "24a4cffe",
   "metadata": {},
   "source": [
    "### Visualization OF Data"
   ]
  },
  {
   "cell_type": "markdown",
   "id": "5f30a11e",
   "metadata": {},
   "source": [
    "#### BarGraph Of Number Of Terrorist Attack In Each year"
   ]
  },
  {
   "cell_type": "code",
   "execution_count": 223,
   "id": "abcbf6fe",
   "metadata": {},
   "outputs": [
    {
     "data": {
      "image/png": "[encoded data removed]",
      "text/plain": [
       "<Figure size 1080x648 with 1 Axes>"
      ]
     },
     "metadata": {
      "needs_background": "light"
     },
     "output_type": "display_data"
    }
   ],
   "source": [
    "plt.subplots(figsize=(15,9))\n",
    "sns.countplot('Year',data=data)\n",
    "plt.title(\"Number of Terrorist Attack Each Year\")\n",
    "plt.xticks(rotation=90)\n",
    "plt.show()"
   ]
  },
  {
   "cell_type": "code",
   "execution_count": 224,
   "id": "0558139e",
   "metadata": {},
   "outputs": [
    {
     "name": "stdout",
     "output_type": "stream",
     "text": [
      "Year    Count\n"
     ]
    },
    {
     "data": {
      "text/plain": [
       "2014    16903\n",
       "2015    14965\n",
       "2016    13587\n",
       "2013    12036\n",
       "2017    10900\n",
       "2012     8522\n",
       "2011     5076\n",
       "1992     5071\n",
       "2010     4826\n",
       "2008     4805\n",
       "Name: Year, dtype: int64"
      ]
     },
     "execution_count": 224,
     "metadata": {},
     "output_type": "execute_result"
    }
   ],
   "source": [
    "print(\"Year    Count\")\n",
    "data['Year'].value_counts()[0:10]"
   ]
  },
  {
   "cell_type": "markdown",
   "id": "83099d56",
   "metadata": {},
   "source": [
    "Conclusion-  Most number of terririst attack happend in 2014."
   ]
  },
  {
   "cell_type": "markdown",
   "id": "ba934290",
   "metadata": {},
   "source": [
    "#### BarGraph Of Number Of Terrorist Attack In Region"
   ]
  },
  {
   "cell_type": "code",
   "execution_count": 225,
   "id": "caa3463f",
   "metadata": {},
   "outputs": [
    {
     "data": {
      "image/png": "[encoded data removed]",
      "text/plain": [
       "<Figure size 1080x648 with 1 Axes>"
      ]
     },
     "metadata": {
      "needs_background": "light"
     },
     "output_type": "display_data"
    }
   ],
   "source": [
    "country = data['Region'].value_counts().index\n",
    "attacks = data['Region'].value_counts().values\n",
    "plt.subplots(figsize=(15,9))\n",
    "sns.barplot(country,attacks)\n",
    "plt.xticks(rotation=90)\n",
    "plt.title(\"Number Of Terrorist Attack In Resion\")\n",
    "plt.xlabel(\"Resion\")\n",
    "plt.ylabel(\"Number of Attacks\")\n",
    "plt.show()"
   ]
  },
  {
   "cell_type": "code",
   "execution_count": 226,
   "id": "4adb223b",
   "metadata": {},
   "outputs": [
    {
     "name": "stdout",
     "output_type": "stream",
     "text": [
      "Region                         Count\n"
     ]
    },
    {
     "data": {
      "text/plain": [
       "Middle East & North Africa     50474\n",
       "South Asia                     44974\n",
       "South America                  18978\n",
       "Sub-Saharan Africa             17550\n",
       "Western Europe                 16639\n",
       "Southeast Asia                 12485\n",
       "Central America & Caribbean    10344\n",
       "Eastern Europe                  5144\n",
       "North America                   3456\n",
       "East Asia                        802\n",
       "Central Asia                     563\n",
       "Australasia & Oceania            282\n",
       "Name: Region, dtype: int64"
      ]
     },
     "execution_count": 226,
     "metadata": {},
     "output_type": "execute_result"
    }
   ],
   "source": [
    "print(\"Region                         Count\")\n",
    "data['Region'].value_counts()"
   ]
  },
  {
   "cell_type": "markdown",
   "id": "7cc85b26",
   "metadata": {},
   "source": [
    "Conclusion- Most attack happened in in Middel East & North Africa region"
   ]
  },
  {
   "cell_type": "markdown",
   "id": "1607c17d",
   "metadata": {},
   "source": [
    "#### Number Of Terrorist Attack Happend In Diffrent Countrys"
   ]
  },
  {
   "cell_type": "code",
   "execution_count": 227,
   "id": "e4ad343f",
   "metadata": {},
   "outputs": [
    {
     "data": {
      "image/png": "[encoded data removed]",
      "text/plain": [
       "<Figure size 1080x648 with 1 Axes>"
      ]
     },
     "metadata": {
      "needs_background": "light"
     },
     "output_type": "display_data"
    }
   ],
   "source": [
    "country = data['Country_name'].value_counts()[:12].index\n",
    "attacks = data['Country_name'].value_counts()[:12].values\n",
    "plt.subplots(figsize=(15,9))\n",
    "sns.barplot(country,attacks)\n",
    "plt.title(\"Number Of Terrorist Attack In Top 12 Counrtys\")\n",
    "plt.xlabel(\"Country\")\n",
    "plt.ylabel(\"Number of Attacks\")\n",
    "plt.xticks(rotation=90)\n",
    "plt.show()"
   ]
  },
  {
   "cell_type": "code",
   "execution_count": 228,
   "id": "89bd9909",
   "metadata": {},
   "outputs": [
    {
     "name": "stdout",
     "output_type": "stream",
     "text": [
      "Country Name      count\n"
     ]
    },
    {
     "data": {
      "text/plain": [
       "Iraq              24636\n",
       "Pakistan          14368\n",
       "Afghanistan       12731\n",
       "India             11960\n",
       "Colombia           8306\n",
       "Philippines        6908\n",
       "Peru               6096\n",
       "El Salvador        5320\n",
       "United Kingdom     5235\n",
       "Turkey             4292\n",
       "Somalia            4142\n",
       "Nigeria            3907\n",
       "Name: Country_name, dtype: int64"
      ]
     },
     "execution_count": 228,
     "metadata": {},
     "output_type": "execute_result"
    }
   ],
   "source": [
    "print(\"Country Name      count\")\n",
    "data['Country_name'].value_counts()[:12]"
   ]
  },
  {
   "cell_type": "markdown",
   "id": "8f296179",
   "metadata": {},
   "source": [
    "Conclusion- Most attack happened in Iraq ."
   ]
  },
  {
   "cell_type": "markdown",
   "id": "e47dfb2f",
   "metadata": {},
   "source": [
    "#### Pie Plot of Attack Type"
   ]
  },
  {
   "cell_type": "code",
   "execution_count": 229,
   "id": "ee1eff1d",
   "metadata": {},
   "outputs": [
    {
     "data": {
      "image/png": "[encoded data removed]",
      "text/plain": [
       "<Figure size 432x288 with 1 Axes>"
      ]
     },
     "metadata": {},
     "output_type": "display_data"
    }
   ],
   "source": [
    "attacktype = data['Attack_type'].value_counts().index\n",
    "attackcount = data['Attack_type'].value_counts().values\n",
    "plt.pie(attackcount,labels=attacktype,radius=3,autopct='%0.1f%%')\n",
    "plt.show()"
   ]
  },
  {
   "cell_type": "code",
   "execution_count": 230,
   "id": "80820db2",
   "metadata": {
    "scrolled": true
   },
   "outputs": [
    {
     "name": "stdout",
     "output_type": "stream",
     "text": [
      "Attack Type                            Count\n"
     ]
    },
    {
     "data": {
      "text/plain": [
       "Bombing/Explosion                      88255\n",
       "Armed Assault                          42669\n",
       "Assassination                          19312\n",
       "Hostage Taking (Kidnapping)            11158\n",
       "Facility/Infrastructure Attack         10356\n",
       "Unknown                                 7276\n",
       "Unarmed Assault                         1015\n",
       "Hostage Taking (Barricade Incident)      991\n",
       "Hijacking                                659\n",
       "Name: Attack_type, dtype: int64"
      ]
     },
     "execution_count": 230,
     "metadata": {},
     "output_type": "execute_result"
    }
   ],
   "source": [
    "print(\"Attack Type                            Count\")\n",
    "data['Attack_type'].value_counts()"
   ]
  },
  {
   "cell_type": "markdown",
   "id": "3e7665b9",
   "metadata": {},
   "source": [
    "Conclusion- Most of attack done by through Bombing and Explosion material ."
   ]
  },
  {
   "cell_type": "markdown",
   "id": "2a8f6cda",
   "metadata": {},
   "source": [
    "#### Pie Plot of Attack Type"
   ]
  },
  {
   "cell_type": "code",
   "execution_count": 231,
   "id": "afcf155a",
   "metadata": {},
   "outputs": [
    {
     "data": {
      "image/png": "[encoded data removed]",
      "text/plain": [
       "<Figure size 432x288 with 1 Axes>"
      ]
     },
     "metadata": {},
     "output_type": "display_data"
    }
   ],
   "source": [
    "attacktype = data['Target_type'].value_counts()[0:12].index\n",
    "attackcount = data['Target_type'].value_counts()[0:12].values\n",
    "plt.pie(attackcount,labels=attacktype,radius=3,autopct='%0.1f%%')\n",
    "plt.show()"
   ]
  },
  {
   "cell_type": "code",
   "execution_count": 232,
   "id": "22d88ab5",
   "metadata": {},
   "outputs": [
    {
     "data": {
      "text/plain": [
       "Private Citizens & Property       43511\n",
       "Military                          27984\n",
       "Police                            24506\n",
       "Government (General)              21283\n",
       "Business                          20669\n",
       "Transportation                     6799\n",
       "Utilities                          6023\n",
       "Unknown                            5898\n",
       "Religious Figures/Institutions     4440\n",
       "Educational Institution            4322\n",
       "Government (Diplomatic)            3573\n",
       "Terrorists/Non-State Militia       3039\n",
       "Name: Target_type, dtype: int64"
      ]
     },
     "execution_count": 232,
     "metadata": {},
     "output_type": "execute_result"
    }
   ],
   "source": [
    "data['Target_type'].value_counts()[0:12]"
   ]
  },
  {
   "cell_type": "markdown",
   "id": "a489f1e7",
   "metadata": {},
   "source": [
    "Conclusion- Most of Private Citizens & Property got targetd in Terrorist attack"
   ]
  },
  {
   "cell_type": "markdown",
   "id": "1295c9f3",
   "metadata": {},
   "source": [
    "####  Graph Of Attack by Group/Gang"
   ]
  },
  {
   "cell_type": "code",
   "execution_count": 233,
   "id": "01e55a9d",
   "metadata": {},
   "outputs": [
    {
     "data": {
      "image/png": "[encoded data removed]",
      "text/plain": [
       "<Figure size 1080x648 with 1 Axes>"
      ]
     },
     "metadata": {
      "needs_background": "light"
     },
     "output_type": "display_data"
    }
   ],
   "source": [
    "gang = data['Gang_name'].value_counts()[:12].values\n",
    "count = data['Gang_name'].value_counts()[:12].index\n",
    "plt.subplots(figsize=(15,9))\n",
    "sns.barplot(gang,count)\n",
    "plt.title(\"plot of number of attack by Gang\")\n",
    "plt.xlabel(\"Attack count\")\n",
    "plt.ylabel(\"Gang Name\")\n",
    "plt.xticks(rotation=90)\n",
    "plt.show()"
   ]
  },
  {
   "cell_type": "code",
   "execution_count": 234,
   "id": "29308e83",
   "metadata": {},
   "outputs": [
    {
     "name": "stdout",
     "output_type": "stream",
     "text": [
      "Gang name                                           count\n"
     ]
    },
    {
     "data": {
      "text/plain": [
       "Unknown                                             82782\n",
       "Taliban                                              7478\n",
       "Islamic State of Iraq and the Levant (ISIL)          5613\n",
       "Shining Path (SL)                                    4555\n",
       "Farabundo Marti National Liberation Front (FMLN)     3351\n",
       "Al-Shabaab                                           3288\n",
       "New People's Army (NPA)                              2772\n",
       "Irish Republican Army (IRA)                          2671\n",
       "Revolutionary Armed Forces of Colombia (FARC)        2487\n",
       "Boko Haram                                           2418\n",
       "Kurdistan Workers' Party (PKK)                       2310\n",
       "Basque Fatherland and Freedom (ETA)                  2024\n",
       "Communist Party of India - Maoist (CPI-Maoist)       1878\n",
       "Maoists                                              1630\n",
       "Liberation Tigers of Tamil Eelam (LTTE)              1606\n",
       "Name: Gang_name, dtype: int64"
      ]
     },
     "execution_count": 234,
     "metadata": {},
     "output_type": "execute_result"
    }
   ],
   "source": [
    "print(\"Gang name                                           count\")\n",
    "data['Gang_name'].value_counts()[0:15]"
   ]
  },
  {
   "cell_type": "markdown",
   "id": "f40e0d75",
   "metadata": {},
   "source": [
    "conclusion: most attack happend through unknown group"
   ]
  },
  {
   "cell_type": "code",
   "execution_count": 235,
   "id": "63afd16f",
   "metadata": {},
   "outputs": [
    {
     "data": {
      "image/png": "[encoded data removed]",
      "text/plain": [
       "<Figure size 1080x648 with 1 Axes>"
      ]
     },
     "metadata": {
      "needs_background": "light"
     },
     "output_type": "display_data"
    }
   ],
   "source": [
    "wtype = data['Weapon_type'].value_counts()[0:6].index\n",
    "wcount = data['Weapon_type'].value_counts()[0:6].values\n",
    "plt.subplots(figsize=(15,9))\n",
    "sns.barplot(wtype,wcount)\n",
    "plt.xticks(rotation=90)\n",
    "plt.show()\n"
   ]
  },
  {
   "cell_type": "code",
   "execution_count": 236,
   "id": "c2dc30d4",
   "metadata": {},
   "outputs": [
    {
     "data": {
      "text/plain": [
       "Explosives                                                                     92426\n",
       "Firearms                                                                       58524\n",
       "Unknown                                                                        15157\n",
       "Incendiary                                                                     11135\n",
       "Melee                                                                           3655\n",
       "Chemical                                                                         321\n",
       "Sabotage Equipment                                                               141\n",
       "Vehicle (not to include vehicle-borne explosives, i.e., car or truck bombs)      136\n",
       "Other                                                                            114\n",
       "Biological                                                                        35\n",
       "Fake Weapons                                                                      33\n",
       "Radiological                                                                      14\n",
       "Name: Weapon_type, dtype: int64"
      ]
     },
     "execution_count": 236,
     "metadata": {},
     "output_type": "execute_result"
    }
   ],
   "source": [
    " data['Weapon_type'].value_counts()"
   ]
  },
  {
   "cell_type": "markdown",
   "id": "13b508e1",
   "metadata": {},
   "source": [
    "Conclusion :In Most Of Attack Explosives and Firearms are used as Weapon"
   ]
  },
  {
   "cell_type": "markdown",
   "id": "9b62c21e",
   "metadata": {},
   "source": [
    "#### BarGraph Of Succesfull And Unsuccessful Attack"
   ]
  },
  {
   "cell_type": "code",
   "execution_count": 237,
   "id": "95b6a5ba",
   "metadata": {},
   "outputs": [
    {
     "data": {
      "image/png": "[encoded data removed]",
      "text/plain": [
       "<Figure size 432x288 with 1 Axes>"
      ]
     },
     "metadata": {
      "needs_background": "light"
     },
     "output_type": "display_data"
    }
   ],
   "source": [
    "sns.countplot(x=data['success'],color=\"Blue\")\n",
    "plt.grid(True)\n",
    "plt.show()"
   ]
  },
  {
   "cell_type": "code",
   "execution_count": 238,
   "id": "371b2f78",
   "metadata": {},
   "outputs": [
    {
     "data": {
      "text/plain": [
       "1    161632\n",
       "0     20059\n",
       "Name: success, dtype: int64"
      ]
     },
     "execution_count": 238,
     "metadata": {},
     "output_type": "execute_result"
    }
   ],
   "source": [
    "data['success'].value_counts()"
   ]
  },
  {
   "cell_type": "markdown",
   "id": "dbc8c5a6",
   "metadata": {},
   "source": [
    "Conclusion:-  \n",
    "No Of Successful Attacks= 161632  \n",
    "No Of Unsuccessful Attacks = 20059"
   ]
  },
  {
   "cell_type": "markdown",
   "id": "6c24e46c",
   "metadata": {},
   "source": [
    "#### Line Plot Of Number OF Kill And Wound In Attack in Each Year"
   ]
  },
  {
   "cell_type": "code",
   "execution_count": 239,
   "id": "ea51b696",
   "metadata": {},
   "outputs": [
    {
     "data": {
      "image/png": "[encoded data removed]",
      "text/plain": [
       "<Figure size 1080x720 with 1 Axes>"
      ]
     },
     "metadata": {
      "needs_background": "light"
     },
     "output_type": "display_data"
    }
   ],
   "source": [
    "killed =data[['Year','Kill']].groupby('Year').sum()\n",
    "wounded =data[['Year','wound']].groupby('Year').sum()\n",
    "plt.subplots(figsize=(15,10))\n",
    "plt.plot(killed)\n",
    "plt.plot(wounded)\n",
    "plt.grid(True)\n",
    "plt.show()"
   ]
  },
  {
   "cell_type": "code",
   "execution_count": 240,
   "id": "dd4514bf",
   "metadata": {},
   "outputs": [
    {
     "data": {
      "text/plain": [
       "44490"
      ]
     },
     "execution_count": 240,
     "metadata": {},
     "output_type": "execute_result"
    }
   ],
   "source": [
    "killed['Kill'].max()"
   ]
  },
  {
   "cell_type": "code",
   "execution_count": 241,
   "id": "3f081fcd",
   "metadata": {},
   "outputs": [
    {
     "data": {
      "text/plain": [
       "44043"
      ]
     },
     "execution_count": 241,
     "metadata": {},
     "output_type": "execute_result"
    }
   ],
   "source": [
    "wounded['wound'].max()"
   ]
  },
  {
   "cell_type": "raw",
   "id": "a61875d8",
   "metadata": {},
   "source": [
    "conclusion :-  \n",
    "count of maximum people killed in Attack= 44490  \n",
    "count of maximum people wounded in Attack = 44043"
   ]
  },
  {
   "cell_type": "markdown",
   "id": "6dce0565",
   "metadata": {},
   "source": [
    "## Final Conclusion :-"
   ]
  },
  {
   "cell_type": "code",
   "execution_count": 242,
   "id": "196ebe52",
   "metadata": {},
   "outputs": [
    {
     "name": "stdout",
     "output_type": "stream",
     "text": [
      "Year with most attacks :\t\t         2014\n",
      "Resion With Maximum Attacks :\t\t\t Middle East & North Africa\n",
      "Country With Maximum Attacks :\t\t         Iraq\n",
      "count of maximum people killed in Attack :\t 44490\n",
      "count of maximum people wounded in Attack :\t 44043\n",
      "Most Attack Types :\t\t\t\t Bombing/Explosion\n",
      "Most Target Types :\t\t\t\t Private Citizens & Property\n",
      "Group with the most attacks :\t\t\t Unknown Gang\\Group\n",
      "Most Used Weapon Types :\t\t\t Explosives\n"
     ]
    }
   ],
   "source": [
    "print('Year with most attacks :\\t\\t        ', data['Year'].value_counts().idxmax())\n",
    "print('Resion With Maximum Attacks :\\t\\t\\t',data['Region'].value_counts().index[0])\n",
    "print('Country With Maximum Attacks :\\t\\t        ',data['Country_name'].value_counts().idxmax())\n",
    "print('count of maximum people killed in Attack :\\t',killed['Kill'].max())\n",
    "print('count of maximum people wounded in Attack :\\t',wounded['wound'].max())\n",
    "print(\"Most Attack Types :\\t\\t\\t\\t\",data['Attack_type'].value_counts().idxmax())\n",
    "print(\"Most Target Types :\\t\\t\\t\\t\",data['Target_type'].value_counts().idxmax())\n",
    "print(\"Group with the most attacks :\\t\\t\\t\",data['Gang_name'].value_counts().index[0],\"Gang\\Group\")\n",
    "print(\"Most Used Weapon Types :\\t\\t\\t\",data['Weapon_type'].value_counts().idxmax())"
   ]
  },
  {
   "cell_type": "markdown",
   "id": "a3b83954",
   "metadata": {},
   "source": [
    "## Hot Zone Of Terrorism :-  \n",
    "### Region - Middle East & North Africa\n",
    "### Country - Iraq"
   ]
  },
  {
   "cell_type": "code",
   "execution_count": null,
   "id": "f5e98e01",
   "metadata": {},
   "outputs": [],
   "source": []
  }
 ],
 "metadata": {
  "kernelspec": {
   "display_name": "Python 3",
   "language": "python",
   "name": "python3"
  },
  "language_info": {
   "codemirror_mode": {
    "name": "ipython",
    "version": 3
   },
   "file_extension": ".py",
   "mimetype": "text/x-python",
   "name": "python",
   "nbconvert_exporter": "python",
   "pygments_lexer": "ipython3",
   "version": "3.8.8"
  }
 },
 "nbformat": 4,
 "nbformat_minor": 5
}
